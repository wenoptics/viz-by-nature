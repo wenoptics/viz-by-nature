{
 "cells": [
  {
   "cell_type": "markdown",
   "metadata": {},
   "source": [
    "# Fractal Tree Experiment\n",
    "\n",
    "I use this notebook to build some javascript canvas infrastructures for\n",
    "exploring `fractal tree` algoritm. "
   ]
  },
  {
   "cell_type": "code",
   "execution_count": null,
   "metadata": {},
   "outputs": [],
   "source": []
  },
  {
   "cell_type": "code",
   "execution_count": 33,
   "metadata": {
    "scrolled": false
   },
   "outputs": [
    {
     "data": {
      "text/html": [
       "<div id=\"container-tree\">\n",
       "    <div id=\"control-tree\" style=\"position:absolute; right:0; top: 0\"></div>\n",
       "    <canvas id=\"canvas-tree\" width=\"600\" height=\"500\"></canvas>\n",
       "</div>\n"
      ],
      "text/plain": [
       "<IPython.core.display.HTML object>"
      ]
     },
     "metadata": {},
     "output_type": "display_data"
    }
   ],
   "source": [
    "%%html\n",
    "<div id=\"container-tree\">\n",
    "    <div id=\"control-tree\" style=\"position:absolute; right:0; top: 0\"></div>\n",
    "    <canvas id=\"canvas-tree\" width=\"600\" height=\"500\"></canvas>\n",
    "</div>"
   ]
  },
  {
   "cell_type": "code",
   "execution_count": 47,
   "metadata": {},
   "outputs": [
    {
     "data": {
      "application/javascript": [
       "\n",
       "require.config({\n",
       "    paths: {\n",
       "        'dat.gui': 'https://cdnjs.cloudflare.com/ajax/libs/dat-gui/0.7.6/dat.gui.min'\n",
       "    }\n",
       "});\n",
       "\n",
       "var $canvas = $('#canvas-tree');\n",
       "var $controlContainer = $('#control-tree')\n",
       "var ctx = $canvas[0].getContext('2d');\n",
       "\n",
       "function addGui(gui, parent) {\n",
       "  if(!parent) {\n",
       "    parent = DAT.GUI.autoPlaceContainer;\n",
       "  }\n",
       "  parent.appendChild(gui);\n",
       "}\n",
       "\n",
       "(function(element) {\n",
       "    require(['dat.gui'], function(dat) {   \n",
       "        \n",
       "        function redraw() {\n",
       "            ctx.clearRect(0, 0, $canvas.width(), $canvas.height());\n",
       "            drawTree(300, 500, -90, param.depth);\n",
       "        }\n",
       "        \n",
       "        var Param = function() {\n",
       "          this.depth = 9;\n",
       "          this.angle = 20;\n",
       "          this.displayOutline = false;\n",
       "          this.random = function() {redraw()};\n",
       "        };\n",
       "        \n",
       "        var param = new Param();\n",
       "        var gui = new dat.GUI({\n",
       "            autoPlace: false\n",
       "        });\n",
       "        $controlContainer.empty()\n",
       "        $controlContainer.append(gui.domElement);\n",
       "\n",
       "        gui.add(param, 'depth', 1, 20).onChange(() => redraw());\n",
       "        gui.add(param, 'angle', 0, 90).onChange(() => redraw());\n",
       "        gui.add(param, 'displayOutline');\n",
       "        gui.add(param, 'random');\n",
       "\n",
       "        ctx.fillStyle = '#C0C0C0';\n",
       "        ctx.lineWidth = 100;\n",
       "\n",
       "        var deg_to_rad = Math.PI / 180.0;\n",
       "        var depth = param.depth;\n",
       "\n",
       "        function drawLine(x1, y1, x2, y2, brightness){\n",
       "          ctx.beginPath();\n",
       "          ctx.lineWidth = brightness * 0.7;\n",
       "          ctx.moveTo(x1, y1);\n",
       "          ctx.lineTo(x2, y2);\n",
       "          ctx.closePath();\n",
       "          ctx.stroke();\n",
       "        }\n",
       "\n",
       "        function drawTree(x1, y1, angle, depth){\n",
       "          if (depth <= 0) return;\n",
       "\n",
       "          var x2 = x1 + (Math.cos(angle * deg_to_rad) * (depth) * 10.0);\n",
       "          var y2 = y1 + (Math.sin(angle * deg_to_rad) * (depth) * 10.0);\n",
       "          drawLine(x1, y1, x2, y2, depth);\n",
       "          if (Math.random() >= 0.45); drawTree(x2, y2, angle - param.angle, depth - 1);\n",
       "          if (Math.random() >= 0.45) drawTree(x2, y2, angle + param.angle, depth - 1);\n",
       "        }\n",
       "\n",
       "        redraw();\n",
       "    })\n",
       "})(element);\n"
      ],
      "text/plain": [
       "<IPython.core.display.Javascript object>"
      ]
     },
     "metadata": {},
     "output_type": "display_data"
    }
   ],
   "source": [
    "%%javascript\n",
    "\n",
    "require.config({\n",
    "    paths: {\n",
    "        'dat.gui': 'https://cdnjs.cloudflare.com/ajax/libs/dat-gui/0.7.6/dat.gui.min'\n",
    "    }\n",
    "});\n",
    "\n",
    "var $canvas = $('#canvas-tree');\n",
    "var $controlContainer = $('#control-tree')\n",
    "var ctx = $canvas[0].getContext('2d');\n",
    "\n",
    "function addGui(gui, parent) {\n",
    "  if(!parent) {\n",
    "    parent = DAT.GUI.autoPlaceContainer;\n",
    "  }\n",
    "  parent.appendChild(gui);\n",
    "}\n",
    "\n",
    "(function(element) {\n",
    "    require(['dat.gui'], function(dat) {   \n",
    "        \n",
    "        function redraw() {\n",
    "            ctx.clearRect(0, 0, $canvas.width(), $canvas.height());\n",
    "            drawTree(300, 500, -90, param.depth);\n",
    "        }\n",
    "        \n",
    "        var Param = function() {\n",
    "          this.depth = 9;\n",
    "          this.angle = 20;\n",
    "          this.displayOutline = false;\n",
    "          this.random = function() {redraw()};\n",
    "        };\n",
    "        \n",
    "        var param = new Param();\n",
    "        var gui = new dat.GUI({\n",
    "            autoPlace: false\n",
    "        });\n",
    "        $controlContainer.empty()\n",
    "        $controlContainer.append(gui.domElement);\n",
    "\n",
    "        gui.add(param, 'depth', 1, 20).onChange(() => redraw());\n",
    "        gui.add(param, 'angle', 0, 90).onChange(() => redraw());\n",
    "        gui.add(param, 'displayOutline');\n",
    "        gui.add(param, 'random');\n",
    "\n",
    "        ctx.fillStyle = '#C0C0C0';\n",
    "        ctx.lineWidth = 100;\n",
    "\n",
    "        var deg_to_rad = Math.PI / 180.0;\n",
    "        var depth = param.depth;\n",
    "\n",
    "        function drawLine(x1, y1, x2, y2, brightness){\n",
    "          ctx.beginPath();\n",
    "          ctx.lineWidth = brightness * 0.7;\n",
    "          ctx.moveTo(x1, y1);\n",
    "          ctx.lineTo(x2, y2);\n",
    "          ctx.closePath();\n",
    "          ctx.stroke();\n",
    "        }\n",
    "\n",
    "        function drawTree(x1, y1, angle, depth){\n",
    "          if (depth <= 0) return;\n",
    "\n",
    "          var x2 = x1 + (Math.cos(angle * deg_to_rad) * (depth) * 10.0);\n",
    "          var y2 = y1 + (Math.sin(angle * deg_to_rad) * (depth) * 10.0);\n",
    "          drawLine(x1, y1, x2, y2, depth);\n",
    "          if (Math.random() >= 0.45); drawTree(x2, y2, angle - param.angle, depth - 1);\n",
    "          if (Math.random() >= 0.45) drawTree(x2, y2, angle + param.angle, depth - 1);\n",
    "        }\n",
    "\n",
    "        redraw();\n",
    "    })\n",
    "})(element);"
   ]
  },
  {
   "cell_type": "code",
   "execution_count": null,
   "metadata": {},
   "outputs": [],
   "source": []
  }
 ],
 "metadata": {
  "kernelspec": {
   "display_name": "Python 3",
   "language": "python",
   "name": "python3"
  },
  "language_info": {
   "codemirror_mode": {
    "name": "ipython",
    "version": 3
   },
   "file_extension": ".py",
   "mimetype": "text/x-python",
   "name": "python",
   "nbconvert_exporter": "python",
   "pygments_lexer": "ipython3",
   "version": "3.7.4"
  },
  "toc": {
   "base_numbering": 1,
   "nav_menu": {},
   "number_sections": true,
   "sideBar": true,
   "skip_h1_title": false,
   "title_cell": "Table of Contents",
   "title_sidebar": "Contents",
   "toc_cell": false,
   "toc_position": {},
   "toc_section_display": true,
   "toc_window_display": false
  }
 },
 "nbformat": 4,
 "nbformat_minor": 2
}
